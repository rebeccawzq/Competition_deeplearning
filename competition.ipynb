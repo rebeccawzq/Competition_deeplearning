{
  "cells": [
    {
      "cell_type": "markdown",
      "metadata": {
        "id": "view-in-github"
      },
      "source": [
        "<a href=\"https://colab.research.google.com/github/WALLERR/Covid-19-Infection-Percentage-Estimation/blob/main/covid19_code_final.ipynb\" target=\"_parent\"><img src=\"https://colab.research.google.com/assets/colab-badge.svg\" alt=\"Open In Colab\"/></a>"
      ]
    },
    {
      "cell_type": "markdown",
      "metadata": {
        "id": "ihsR_ew8QNCr"
      },
      "source": [
        "#COVID-19 Prediction"
      ]
    },
    {
      "cell_type": "markdown",
      "metadata": {
        "id": "OAKefO7DSUwH"
      },
      "source": [
        "Since late 2019, the world been in health crisis because of the COVID-19 pandemic. In fact, using Medical Imagery has proved to be efficient in detecting Covid-19 Infection. These Medical Imaging include: X-ray, CT-scans and Ultrasounds. The use of CT-scans is not only limited to the detection of COVID-19 cases, but they can also be used for other important tasks such quantifying the infection and monitoring the evolution of the disease, which can help in treatment and save the patient’s life. In this challenge, the participants will use a dataset labelled by two expert radiologists, who estimated the Covid-19 infection, to train and validate their approaches. In the testing phase, participants will test their approaches using a test dataset collected from various CT-scanners and recording settings."
      ]
    },
    {
      "cell_type": "markdown",
      "metadata": {
        "id": "C1SUlbVIQbXx"
      },
      "source": [
        "- In your google drive, create a folder called \"DL_Project\"\n",
        "- Place this .ipynb notebook in that folder\n",
        "- Upload the training & val dataset zip in that folder\n",
        "- Only have to do this once the very first time you are setting up project"
      ]
    },
    {
      "cell_type": "code",
      "execution_count": null,
      "metadata": {
        "colab": {
          "base_uri": "https://localhost:8080/"
        },
        "id": "_Ycwr5g60RUs",
        "outputId": "b8420c76-2add-4a41-d9b7-a2c370f6e2ec"
      },
      "outputs": [
        {
          "output_type": "stream",
          "name": "stdout",
          "text": [
            "Drive already mounted at /content/drive; to attempt to forcibly remount, call drive.mount(\"/content/drive\", force_remount=True).\n"
          ]
        }
      ],
      "source": [
        "## mount google drive\n",
        "from google.colab import drive\n",
        "drive.mount('/content/drive')"
      ]
    },
    {
      "cell_type": "code",
      "execution_count": null,
      "metadata": {
        "id": "QP8GYguxqzLy"
      },
      "outputs": [],
      "source": [
        "# # if you haven't unzipped training data\n",
        "# !unzip \"/home/mac/Covid-19-Infection-Percentage-Estimation/Train.zip\" -d  \"/home/mac/Covid-19-Infection-Percentage-Estimation/Train/\""
      ]
    },
    {
      "cell_type": "code",
      "execution_count": null,
      "metadata": {
        "id": "KOZCN2EusO5_"
      },
      "outputs": [],
      "source": [
        "# if you haven't unzipped val data\n",
        "# !unzip \"/home/mac/Covid-19-Infection-Percentage-Estimation/Val Blind.zip\" -d  \"/home/mac/Covid-19-Infection-Percentage-Estimation/Val Blind\""
      ]
    },
    {
      "cell_type": "markdown",
      "metadata": {
        "id": "T58rAfGwOtiP"
      },
      "source": [
        "##Challenge Dataset:\n",
        "\n",
        "The challenge has three sets: Train, Val, and Test, and we will only work with the Train set and Val set (unlabeled). \n",
        "\n",
        "The Train set is obtained from 132 CT-scans, from which 128 CT-scans has confirmed to have Covid-19 based on positive reverse transcription polymerase chain reaction (RT-PCR) and CT scan manifestations identified by two experienced thoracic radiologists. The rest four CT-scans have not any infection type (Healthy). The Val set is obtained from 57 CT-scans, from which 55 CT-scans has confirmed to have Covid-19 based on positive reverse transcription polymerase chain reaction (RT-PCR) and CT scan manifestations identified by two experienced thoracic radiologists. The rest two CT-scans have not any infection type (Healthy).\n",
        "\n",
        "The Train split has two files: Images (Slices) Folder and Labeling Folder ('.csv' file) that contains the labels for each Slice (Image)"
      ]
    },
    {
      "cell_type": "markdown",
      "metadata": {
        "id": "K8JKYqdFO4la"
      },
      "source": [
        "    Train Set\n",
        "    ├── Slices Folder \n",
        "    │      ├ Image_0000.png\n",
        "    │      ├ Image_0001.png\n",
        "    │      ├ ...\n",
        "    |      └ Image_3053.png\n",
        "    ├── Labeling Folder\n",
        "    │   └── Train.csv\n",
        "    │         ├ Slice_Name        Covid-19_percentage  Subject    \n",
        "    │         ├ Image_0000.png    0.0                  0\n",
        "    │         ├ Image_0001.png    0.0                  0\n",
        "    │         ├ ...               ...                  ..\n",
        "    │         └ Image_3053.png    40.0\t               131\n",
        "    └── "
      ]
    },
    {
      "cell_type": "markdown",
      "metadata": {
        "id": "CoiQf1kNPN0f"
      },
      "source": [
        "The Validation split has one file contains the slices images, which will be used to predict the Covid-19 infection percentage. These prediction should be saved as '.csv' file and submitted to the Codalab (https://competitions.codalab.org/competitions/35575) to evaluation the performance:"
      ]
    },
    {
      "cell_type": "markdown",
      "metadata": {
        "id": "jii5kTiMPQHQ"
      },
      "source": [
        "    Val Set\n",
        "    ├── Slices Folder \n",
        "    │      ├ Image_0000.png\n",
        "    │      ├ Image_0001.png\n",
        "    │      ├ ...\n",
        "     |      └ Image_1300.png\n",
        "    └── "
      ]
    },
    {
      "cell_type": "markdown",
      "metadata": {
        "id": "sGTBoEiXS0YP"
      },
      "source": [
        "## Deliverables"
      ]
    },
    {
      "cell_type": "markdown",
      "metadata": {
        "id": "2cwK6XnLSt4E"
      },
      "source": [
        "In the Validation phase, each team should submit the predictions of the validation data as 'predictions.csv' file, which contains the names of the slice images in the first column and the corresponding Covid-19 infection percentage estimation in the second column. **This file should be compressed as 'predictions.zip' file and submitted to CodaLab**.\n",
        "\n",
        "In order to have access to the leader board, you must do the following:\n",
        "- Participation in the Competition: Each team should request to participate in the competition on the CodaLab platform (https://competitions.codalab.org/competitions/35575) with specifying the team name, members, emails and affiliations. The team informations can be send to: faresbougourzi@gmail.com"
      ]
    },
    {
      "cell_type": "markdown",
      "metadata": {
        "id": "KT60ecgITNED"
      },
      "source": [
        "    predictions.zip\n",
        "    ├── predictions.csv\n",
        "    │      ├ Image_0000.png    Pr0            \n",
        "    │      ├ Image_0001.png    Pr1             \n",
        "    │      ├ ...               ...              \n",
        "    │      └ Image_1300.png    Pr1300\t        \n",
        "    └──   "
      ]
    },
    {
      "cell_type": "markdown",
      "metadata": {
        "id": "BoRb-o6NSiaA"
      },
      "source": [
        "## Evaluation"
      ]
    },
    {
      "cell_type": "markdown",
      "metadata": {
        "id": "YSx8S1ugSd2m"
      },
      "source": [
        "The evaluation metrics are: **Mean Absolute Error (MAE), Pearson Correlation coefficient (PC) and Root Mean Square Error (RMSE)**. The most important Evaluation Criterion is the **MAE**. In the event of two or more competitors achieve the same MAE, the PC and the RMSE are considered as the tie-breaker."
      ]
    },
    {
      "cell_type": "markdown",
      "metadata": {
        "id": "gFBUy1lBQIM5"
      },
      "source": [
        "## Custom Dataset Class"
      ]
    },
    {
      "cell_type": "code",
      "execution_count": null,
      "metadata": {
        "id": "TckWJ9O4sVJT"
      },
      "outputs": [],
      "source": [
        "## preprocess data\n",
        "## create custom data class\n",
        "\n",
        "import os\n",
        "import torch\n",
        "import pandas as pd\n",
        "from skimage import io, transform\n",
        "\n",
        "import numpy as np\n",
        "import matplotlib.pyplot as plt\n",
        "from torch.utils.data import Dataset, DataLoader\n",
        "from torchvision import transforms, utils\n",
        "import cv2\n",
        "from PIL import Image\n",
        "import glob\n",
        "\n",
        "from datetime import date, datetime\n",
        "\n",
        "\n",
        "class CovidDataset(Dataset):\n",
        "    \"\"\"Covid CT dataset.\"\"\"\n",
        "\n",
        "    def __init__(self, csv_file, root_dir, transform=None):\n",
        "        \"\"\"\n",
        "        Args:\n",
        "            csv_file (string): Path to the csv file with annotations.\n",
        "            root_dir (string): Directory with all the images.\n",
        "            transform (callable, optional): Optional transform to be applied\n",
        "                on a sample.\n",
        "        \"\"\"\n",
        "        self.label_data = pd.read_csv(csv_file)\n",
        "        self.root_dir = root_dir\n",
        "        ## you can apply custom transformation on the image for data augmentation\n",
        "        self.transform = transform\n",
        "\n",
        "    def __len__(self):\n",
        "        return len(self.label_data)\n",
        "\n",
        "    def __getitem__(self, idx):\n",
        "        if torch.is_tensor(idx):\n",
        "            idx = idx.tolist()\n",
        "\n",
        "        img_name = os.path.join(self.root_dir, self.label_data.iloc[idx, 0])\n",
        "        image = io.imread(img_name)\n",
        "        image = cv2.cvtColor(image, cv2.COLOR_BGRA2BGR)\n",
        "        image = torchvision.transforms.functional.to_tensor(image)\n",
        "        p = self.label_data.iloc[idx, 1]\n",
        "        subject_num = self.label_data.iloc[idx, 2]\n",
        "        sample = {'image': image, 'percentage': p, 'subject': subject_num, 'img_name':img_name}\n",
        "\n",
        "        # should be only applied on image, not percentage or subject #\n",
        "        if self.transform:\n",
        "            sample['image'] = self.transform(sample['image'])\n",
        "\n",
        "        return sample"
      ]
    },
    {
      "cell_type": "code",
      "source": [
        "class CovidTestDataset(Dataset):\n",
        "    \"\"\"Covid CT TEST dataset.\"\"\"\n",
        "\n",
        "    def __init__(self, root_dir, transform=None):\n",
        "        \"\"\"\n",
        "        Args:\n",
        "            root_dir (string): Directory with all the images.\n",
        "            transform (callable, optional): Optional transform to be applied\n",
        "                on a sample.\n",
        "        \"\"\"\n",
        "        self.root_dir = root_dir\n",
        "        self.image_list = []\n",
        "        self.transform = transform\n",
        "\n",
        "\n",
        "        for filename in glob.glob(self.root_dir+\"/*.png\"): #assuming png\n",
        "          self.image_list.append(filename)\n",
        "\n",
        "\n",
        "\n",
        "    def __len__(self):\n",
        "        return len(self.image_list)\n",
        "\n",
        "    def __getitem__(self, idx):\n",
        "        if torch.is_tensor(idx):\n",
        "            idx = idx.tolist()\n",
        "\n",
        "        img_name = self.image_list[idx]\n",
        "        image = io.imread(img_name)\n",
        "        image = cv2.cvtColor(image, cv2.COLOR_BGRA2BGR)\n",
        "        image = torchvision.transforms.functional.to_tensor(image)\n",
        "        sample = {'image': image, 'img_name':img_name}\n",
        "\n",
        "        if self.transform:\n",
        "            sample['image'] = self.transform(sample['image'])\n",
        "\n",
        "        return sample"
      ],
      "metadata": {
        "id": "2w0-r25YHAa0"
      },
      "execution_count": null,
      "outputs": []
    },
    {
      "cell_type": "code",
      "execution_count": null,
      "metadata": {
        "id": "DmV47ZBJy1Nv"
      },
      "outputs": [],
      "source": [
        "import torchvision\n",
        "covid_dataset_train_val = CovidDataset(csv_file='drive/MyDrive/DL_Project/Train.csv',\n",
        "                                    root_dir='drive/MyDrive/DL_Project/Train')\n",
        "\n",
        "covid_dataset_test = CovidTestDataset(root_dir='drive/MyDrive/DL_Project/Val')"
      ]
    },
    {
      "cell_type": "code",
      "execution_count": null,
      "metadata": {
        "colab": {
          "base_uri": "https://localhost:8080/"
        },
        "id": "TqTt-xpyZ0ZU",
        "outputId": "1f027c51-361b-4c66-cc3d-ef1dab165802"
      },
      "outputs": [
        {
          "output_type": "execute_result",
          "data": {
            "text/plain": [
              "3053"
            ]
          },
          "metadata": {},
          "execution_count": 7
        }
      ],
      "source": [
        "len(covid_dataset_train_val)"
      ]
    },
    {
      "cell_type": "code",
      "execution_count": null,
      "metadata": {
        "colab": {
          "base_uri": "https://localhost:8080/"
        },
        "id": "NTOXYaTuF6DM",
        "outputId": "1c0e6881-35fe-42e7-84d0-b0b3e4309e16"
      },
      "outputs": [
        {
          "output_type": "execute_result",
          "data": {
            "text/plain": [
              "1301"
            ]
          },
          "metadata": {},
          "execution_count": 8
        }
      ],
      "source": [
        "len(covid_dataset_test)"
      ]
    },
    {
      "cell_type": "code",
      "execution_count": null,
      "metadata": {
        "colab": {
          "base_uri": "https://localhost:8080/",
          "height": 195
        },
        "id": "rJg-KZXP1AcI",
        "outputId": "afeb2c0e-9560-47ad-e69a-c3c708459624"
      },
      "outputs": [
        {
          "output_type": "stream",
          "name": "stdout",
          "text": [
            "0 torch.Size([3, 512, 512]) 0.0 0\n",
            "1 torch.Size([3, 512, 512]) 0.0 0\n",
            "2 torch.Size([3, 512, 512]) 0.0 0\n",
            "3 torch.Size([3, 512, 512]) 0.0 0\n"
          ]
        },
        {
          "output_type": "display_data",
          "data": {
            "text/plain": [
              "<Figure size 432x288 with 4 Axes>"
            ],
            "image/png": "[encoded data removed]"
          },
          "metadata": {
            "needs_background": "light"
          }
        }
      ],
      "source": [
        "## plot training example\n",
        "for i in range(len(covid_dataset_train_val)):\n",
        "    sample = covid_dataset_train_val[i]\n",
        "    print(i, sample['image'].shape, sample['percentage'], sample['subject'])\n",
        "    ax = plt.subplot(1, 4, i + 1)\n",
        "    plt.tight_layout()\n",
        "    ax.set_title('Sample #{}'.format(i))\n",
        "    ax.axis('off')\n",
        "    plt.imshow(sample['image'].numpy().transpose(1,2,0))\n",
        "    if i == 3:\n",
        "        plt.show()\n",
        "        break"
      ]
    },
    {
      "cell_type": "code",
      "execution_count": null,
      "metadata": {
        "colab": {
          "base_uri": "https://localhost:8080/",
          "height": 195
        },
        "id": "YuAZNhAB1BXs",
        "outputId": "6f013a13-5a0c-45c1-94d9-bc39bdb6b8f3"
      },
      "outputs": [
        {
          "output_type": "stream",
          "name": "stdout",
          "text": [
            "0 torch.Size([3, 512, 512]) drive/MyDrive/DL_Project/Val/Image_0304.png\n",
            "1 torch.Size([3, 512, 512]) drive/MyDrive/DL_Project/Val/Image_0302.png\n",
            "2 torch.Size([3, 512, 512]) drive/MyDrive/DL_Project/Val/Image_0303.png\n",
            "3 torch.Size([3, 512, 512]) drive/MyDrive/DL_Project/Val/Image_0301.png\n"
          ]
        },
        {
          "output_type": "display_data",
          "data": {
            "text/plain": [
              "<Figure size 432x288 with 4 Axes>"
            ],
            "image/png": "[encoded data removed]"
          },
          "metadata": {
            "needs_background": "light"
          }
        }
      ],
      "source": [
        "## plot test examples\n",
        "for i in range(len(covid_dataset_test)):\n",
        "    sample = covid_dataset_test[i]\n",
        "    print(i, sample['image'].shape, sample['img_name'])\n",
        "    ax = plt.subplot(1, 4, i + 1)\n",
        "    plt.tight_layout()\n",
        "    ax.set_title('Sample #{}'.format(i))\n",
        "    ax.axis('off')\n",
        "    plt.imshow(sample['image'].numpy().transpose(1,2,0))\n",
        "    if i == 3:\n",
        "        plt.show()\n",
        "        break"
      ]
    },
    {
      "cell_type": "code",
      "source": [
        "def get_mean_std_value(loader):\n",
        "    data_sum = torch.tensor([0.0, 0.0, 0.0])\n",
        "    data_squared_sum = torch.tensor([0.0, 0.0, 0.0])\n",
        "    num_batches = 0\n",
        "\n",
        "    for data in loader:\n",
        "        data_sum += torch.mean(data['image'],dim=[0,2,3]) \n",
        "        data_squared_sum += torch.mean(data['image']**2,dim=[0,2,3])  \n",
        "        num_batches += 1\n",
        "\n",
        "        if num_batches % 10 == 0:\n",
        "          print('batch:', num_batches)\n",
        "          print('mean:',data_sum/num_batches)\n",
        "          print('std:',(data_squared_sum/num_batches - (data_sum/num_batches)**2)**0.5)\n",
        "\n",
        "    mean = data_sum/num_batches\n",
        "    std = (data_squared_sum/num_batches - mean**2)**0.5\n",
        "    return mean,std\n",
        "\n"
      ],
      "metadata": {
        "id": "OlgAGd_uYeel"
      },
      "execution_count": null,
      "outputs": []
    },
    {
      "cell_type": "code",
      "source": [
        "dl_train = DataLoader(covid_dataset_train_val, batch_size=8, shuffle=True, num_workers=0)\n",
        "dl_test = DataLoader(covid_dataset_test, batch_size=8, shuffle=True, num_workers=0)\n",
        "mean,std = get_mean_std_value(dl_train)\n",
        "mean=[0.4945, 0.4945, 0.4945]\n",
        "std=[0.3744, 0.3744, 0.3744]"
      ],
      "metadata": {
        "id": "yq_tZa-kYk11"
      },
      "execution_count": null,
      "outputs": []
    },
    {
      "cell_type": "markdown",
      "metadata": {
        "id": "ZV7i3Ov9REFZ"
      },
      "source": [
        "##Split given train set to train & val set"
      ]
    },
    {
      "cell_type": "code",
      "execution_count": null,
      "metadata": {
        "id": "EIyY_GT7F6DN",
        "outputId": "0f9cc9ff-dd9e-42f5-faee-fceee76b5184",
        "colab": {
          "base_uri": "https://localhost:8080/"
        }
      },
      "outputs": [
        {
          "output_type": "stream",
          "name": "stdout",
          "text": [
            "[0.4945, 0.4945, 0.4945] [0.3744, 0.3744, 0.3744]\n"
          ]
        }
      ],
      "source": [
        "print(mean,std)"
      ]
    },
    {
      "cell_type": "code",
      "execution_count": null,
      "metadata": {
        "id": "O0JAsgvup7Tx"
      },
      "outputs": [],
      "source": [
        "import torchvision\n",
        "import random\n",
        "random.seed(1)\n",
        "\n",
        "\n",
        "mean = np.array(mean)\n",
        "std = np.array(std)\n",
        "\n",
        "train_transform = transforms.Compose([\n",
        "    transforms.RandomHorizontalFlip(),\n",
        "    transforms.RandomRotation(10),\n",
        "    transforms.ToPILImage(),\n",
        "    transforms.ToTensor(),\n",
        "    transforms.Normalize(mean, std)\n",
        "])\n",
        "\n",
        "\n",
        "\n",
        "test_transform = transforms.Compose([\n",
        "    transforms.ToPILImage(),\n",
        "    transforms.ToTensor(),\n",
        "    transforms.Normalize(mean, std)\n",
        "])\n",
        "\n"
      ]
    },
    {
      "cell_type": "code",
      "source": [
        "covid_dataset_train_val = CovidDataset(csv_file='drive/MyDrive/DL_Project/Train.csv',\n",
        "                                    root_dir='drive/MyDrive/DL_Project/Train',transform = train_transform)\n",
        "\n",
        "covid_dataset_test = CovidTestDataset(root_dir='drive/MyDrive/DL_Project/Val', transform = test_transform)"
      ],
      "metadata": {
        "id": "zyEifQTXd3EF"
      },
      "execution_count": null,
      "outputs": []
    },
    {
      "cell_type": "code",
      "source": [
        "train_split_neg=list(random.sample(range(0, 248), int(248 * 0.7))) \n",
        "\n",
        "train_split_pos=list(random.sample(range(249, 3053), int(2805 * 0.7))) \n",
        "\n",
        "val_split_neg=[]\n",
        "val_split_pos=[]\n",
        "\n",
        "for i in range(0, 248):\n",
        "    if i not in train_split_neg:\n",
        "        val_split_neg.append(i)\n",
        "\n",
        "for i in range(249, 3053):\n",
        "    if i not in train_split_pos:\n",
        "        val_split_pos.append(i)\n",
        "\n",
        "\n",
        "\n",
        "train_positve = torch.utils.data.Subset(covid_dataset_train_val,train_split_pos )\n",
        "train_negative = torch.utils.data.Subset(covid_dataset_train_val,train_split_neg )\n",
        "train_dataset = torch.utils.data.ConcatDataset([train_positve, train_negative])\n",
        "\n",
        "val_positve = torch.utils.data.Subset(covid_dataset_train_val,val_split_pos )\n",
        "val_negative = torch.utils.data.Subset(covid_dataset_train_val,val_split_neg )\n",
        "val_dataset = torch.utils.data.ConcatDataset([val_positve, val_negative])"
      ],
      "metadata": {
        "id": "PA_fIIxLeCL2"
      },
      "execution_count": null,
      "outputs": []
    },
    {
      "cell_type": "code",
      "execution_count": null,
      "metadata": {
        "id": "oL3jOThzHqze"
      },
      "outputs": [],
      "source": [
        "train_dataloader = DataLoader(train_dataset, batch_size=6, shuffle=True, num_workers=0)\n",
        "val_dataloader = DataLoader(val_dataset, batch_size=6, shuffle=True, num_workers=0)\n",
        "\n",
        "test_dataloader = DataLoader(covid_dataset_test, batch_size=6, shuffle=True, num_workers=0)"
      ]
    },
    {
      "cell_type": "code",
      "source": [
        "# for batch_idx, sample_batched in enumerate(train_dataloader):\n",
        "#   image, label = sample_batched['image'], sample_batched['percentage']\n",
        "#   print(image.size())"
      ],
      "metadata": {
        "id": "rk-H9t_8rUsf"
      },
      "execution_count": null,
      "outputs": []
    },
    {
      "cell_type": "markdown",
      "metadata": {
        "id": "OClBrnNnRK_t"
      },
      "source": [
        "## Import pretrained models library"
      ]
    },
    {
      "cell_type": "code",
      "execution_count": null,
      "metadata": {
        "id": "sIQiUJcyvJ1y",
        "colab": {
          "base_uri": "https://localhost:8080/"
        },
        "outputId": "3c0cc127-dbc5-4427-a0bf-e563036d2a7d"
      },
      "outputs": [
        {
          "output_type": "stream",
          "name": "stdout",
          "text": [
            "Requirement already satisfied: pretrainedmodels in /usr/local/lib/python3.7/dist-packages (0.7.4)\n",
            "Requirement already satisfied: munch in /usr/local/lib/python3.7/dist-packages (from pretrainedmodels) (2.5.0)\n",
            "Requirement already satisfied: torch in /usr/local/lib/python3.7/dist-packages (from pretrainedmodels) (1.10.0+cu111)\n",
            "Requirement already satisfied: torchvision in /usr/local/lib/python3.7/dist-packages (from pretrainedmodels) (0.11.1+cu111)\n",
            "Requirement already satisfied: tqdm in /usr/local/lib/python3.7/dist-packages (from pretrainedmodels) (4.63.0)\n",
            "Requirement already satisfied: six in /usr/local/lib/python3.7/dist-packages (from munch->pretrainedmodels) (1.15.0)\n",
            "Requirement already satisfied: typing-extensions in /usr/local/lib/python3.7/dist-packages (from torch->pretrainedmodels) (3.10.0.2)\n",
            "Requirement already satisfied: numpy in /usr/local/lib/python3.7/dist-packages (from torchvision->pretrainedmodels) (1.21.5)\n",
            "Requirement already satisfied: pillow!=8.3.0,>=5.3.0 in /usr/local/lib/python3.7/dist-packages (from torchvision->pretrainedmodels) (7.1.2)\n"
          ]
        }
      ],
      "source": [
        "# ## use imagenet pretrained model\n",
        "# ## let's start with resnet34\n",
        "!pip install pretrainedmodels"
      ]
    },
    {
      "cell_type": "markdown",
      "metadata": {
        "id": "NJTMiALSRRHC"
      },
      "source": [
        "## Use CUDA to speed up training"
      ]
    },
    {
      "cell_type": "code",
      "execution_count": null,
      "metadata": {
        "colab": {
          "base_uri": "https://localhost:8080/"
        },
        "id": "1BT-6cVxs_iT",
        "outputId": "f319c5c9-6eb8-42ef-be90-b2fc5c227110"
      },
      "outputs": [
        {
          "output_type": "stream",
          "name": "stdout",
          "text": [
            "cuda:0\n"
          ]
        }
      ],
      "source": [
        "import torch\n",
        "device = torch.device(\"cuda:0\" if torch.cuda.is_available() else \"cpu\")\n",
        "print(device)"
      ]
    },
    {
      "cell_type": "code",
      "source": [
        "torch.cuda.empty_cache()"
      ],
      "metadata": {
        "id": "7inKEeCMGN3D"
      },
      "execution_count": null,
      "outputs": []
    },
    {
      "cell_type": "markdown",
      "metadata": {
        "id": "wqPiUx1XRbIL"
      },
      "source": [
        "## Create Baseline Model"
      ]
    },
    {
      "cell_type": "code",
      "execution_count": null,
      "metadata": {
        "id": "Tl9GV4oRqutR"
      },
      "outputs": [],
      "source": [
        "import pretrainedmodels\n",
        "#For model building\n",
        "import torch\n",
        "from torch import nn, optim\n",
        "import torchvision\n",
        "from torch.nn import functional as F"
      ]
    },
    {
      "cell_type": "code",
      "execution_count": null,
      "metadata": {
        "id": "6DIFuG0hvZn7"
      },
      "outputs": [],
      "source": [
        "class CNN1(nn.Module):\n",
        "    def __init__(self, pretrained=True, pretrianed_model_name=\"resnet34\"):\n",
        "        super(CNN1, self).__init__()\n",
        "        if pretrained is True:\n",
        "            self.model = pretrainedmodels.__dict__[pretrianed_model_name](pretrained=\"imagenet\")\n",
        "        else:\n",
        "            self.model = pretrainedmodels.__dict__[pretrianed_model_name](pretrained=None)\n",
        "        #self.fc1 = nn.Linear(512, 256)\n",
        "\n",
        "        # for param in self.model.parameters():\n",
        "        #     param.requires_grad = False\n",
        "\n",
        "        self.pretrianed_model_name = pretrianed_model_name\n",
        "        self.conv1 = nn.Conv2d(512, 128, (3,3), stride=1, padding =0)\n",
        "        self.dropout = nn.Dropout(p=0.5)\n",
        "        self.conv2 = nn.Conv2d(128, 16, (3,3), stride=1, padding =0)\n",
        "        self.fc1 = nn.Linear(144, 64)\n",
        "        self.fc2 = nn.Linear(64, 1)\n",
        "\n",
        "    def forward(self, x):\n",
        "        bs, _, _, _ = x.shape\n",
        "        x = self.model.features(x)\n",
        "        #x = F.adaptive_avg_pool2d(x) #.reshape(bs, -1)\n",
        "        #x = F.relu(self.fc1(x))\n",
        "        x = self.conv1(x)\n",
        "        x = self.dropout(x)\n",
        "        x = self.conv2(F.relu(x))\n",
        "        # print(x.size()) # [8, 8, 4, 4]\n",
        "        x = self.fc1(x.reshape(bs, -1))  # [8, 128]\n",
        "\n",
        "        label = self.fc2(x)\n",
        "        return label\n",
        "\n",
        "    def get_pretrianed_model_name(self):\n",
        "        return self.pretrianed_model_name\n",
        "\n",
        "    def get_pretrianed_model_name(self):\n",
        "        return self.pretrianed_model_name\n",
        "\n",
        "class CNN2(nn.Module):\n",
        "    def __init__(self, pretrained=True, pretrianed_model_name=\"resnet50\"):\n",
        "        super(CNN2, self).__init__()\n",
        "        if pretrained is True:\n",
        "            self.model = pretrainedmodels.__dict__[pretrianed_model_name](pretrained=\"imagenet\")\n",
        "        else:\n",
        "            self.model = pretrainedmodels.__dict__[pretrianed_model_name](pretrained=None)\n",
        "        self.pretrianed_model_name = pretrianed_model_name\n",
        "        self.conv1 = nn.Conv2d(2048, 512, (3,3), stride=1, padding =0)\n",
        "        self.bn1 = nn.BatchNorm2d(512)\n",
        "        self.dropout1 = nn.Dropout(p=0.5)\n",
        "        self.conv2 = nn.Conv2d(512, 128, (3,3), stride=1, padding =0)\n",
        "        self.dropout2 = nn.Dropout(p=0.5)\n",
        "        self.fc1 = nn.Linear(1152, 512)\n",
        "        self.dropout3 = nn.Dropout(p=0.5)\n",
        "        self.fc2 = nn.Linear(512, 128)\n",
        "        self.fc3 = nn.Linear(128, 1)\n",
        "        \n",
        "    def forward(self, x):\n",
        "        bs, _, _, _ = x.shape\n",
        "        x = self.model.features(x)\n",
        "        x = self.conv1(x)\n",
        "        x = F.relu(x)\n",
        "        x = self.bn1(x)\n",
        "        x = self.dropout1(x)\n",
        "        x = self.conv2(x)\n",
        "        x = F.relu(x)\n",
        "        x = self.dropout2(x)\n",
        "        # print(x.size()) # [8, 8, 4, 4]\n",
        "        x = self.fc1(x.reshape(bs, -1))  # [8, 128]\n",
        "        x = F.relu(x)\n",
        "        x = self.dropout3(x)\n",
        "        x = self.fc2(x)\n",
        "        x = F.relu(x)\n",
        "        label = self.fc3(x)\n",
        "        return label\n",
        "\n",
        "    def get_pretrianed_model_name(self):\n",
        "        return self.pretrianed_model_name\n",
        "\n",
        "\n",
        "class CNN3(nn.Module):\n",
        "    def __init__(self, pretrained=True, pretrianed_model_name=\"resnet152\"):\n",
        "        super(CNN3, self).__init__()\n",
        "        if pretrained is True:\n",
        "            self.model = pretrainedmodels.__dict__[pretrianed_model_name](pretrained=\"imagenet\")\n",
        "        else:\n",
        "            self.model = pretrainedmodels.__dict__[pretrianed_model_name](pretrained=None)\n",
        "        self.pretrianed_model_name = pretrianed_model_name\n",
        "        self.conv1 = nn.Conv2d(2048, 512, (5,5), stride=1, padding =0)\n",
        "        self.bn1 = nn.BatchNorm2d(512)\n",
        "        self.dropout1 = nn.Dropout(p=0.5)\n",
        "        self.conv2 = nn.Conv2d(512, 128, (5,5), stride=1, padding =0)\n",
        "        self.dropout2 = nn.Dropout(p=0.5)\n",
        "        self.fc1 = nn.Linear(8192, 1024)\n",
        "        self.dropout3 = nn.Dropout(p=0.5)\n",
        "        self.fc2 = nn.Linear(1024, 128)\n",
        "        self.fc3 = nn.Linear(128, 1)\n",
        "        \n",
        "    def forward(self, x):\n",
        "        bs, _, _, _ = x.shape\n",
        "        x = self.model.features(x)\n",
        "        x = self.conv1(x)\n",
        "        x = F.relu(x)\n",
        "        x = self.bn1(x)\n",
        "        x = self.dropout1(x)\n",
        "        x = self.conv2(x)\n",
        "        x = F.relu(x)\n",
        "        x = self.dropout2(x)\n",
        "        # print(x.size()) # [8, 8, 4, 4]\n",
        "        x = self.fc1(x.reshape(bs, -1))  # [8, 128]\n",
        "        x = F.relu(x)\n",
        "        x = self.dropout3(x)\n",
        "        x = self.fc2(x)\n",
        "        x = F.relu(x)\n",
        "        label = self.fc3(x)\n",
        "        return label\n",
        "\n",
        "    def get_pretrianed_model_name(self):\n",
        "        return self.pretrianed_model_name\n"
      ]
    },
    {
      "cell_type": "markdown",
      "metadata": {
        "id": "L92JiqerRGl9"
      },
      "source": [
        "# begin"
      ]
    },
    {
      "cell_type": "code",
      "execution_count": null,
      "metadata": {
        "id": "Uz8asgJpq4Zm"
      },
      "outputs": [],
      "source": [
        "def choose_model(chosen_name = 'resnet34'):\n",
        "\n",
        "    if chosen_name == 'resnet34':\n",
        "        model_CNN = CNN1(True, chosen_name).to(device)\n",
        "    elif chosen_name == 'resnet50':\n",
        "        model_CNN = CNN2(True, chosen_name).to(device)\n",
        "    elif chosen_name == 'resnet152':\n",
        "        model_CNN = CNN3(True, chosen_name).to(device)\n",
        "        \n",
        "    return model_CNN"
      ]
    },
    {
      "cell_type": "code",
      "execution_count": null,
      "metadata": {
        "id": "VSklLyGys4tz",
        "scrolled": true
      },
      "outputs": [],
      "source": [
        "chosen_name = 'resnet152'\n",
        "model_CNN = choose_model(chosen_name)"
      ]
    },
    {
      "cell_type": "code",
      "execution_count": null,
      "metadata": {
        "id": "ufc5DuRU_8VO"
      },
      "outputs": [],
      "source": [
        "criterion = nn.L1Loss()\n",
        "#optimizer = optim.SGD(model_CNN.parameters(), lr=0.001, momentum=0.9)\n",
        "optimizer = optim.Adam(model_CNN.parameters(), lr=0.0003, betas=(0.9, 0.999), eps=1e-08, weight_decay=0)"
      ]
    },
    {
      "cell_type": "code",
      "execution_count": null,
      "metadata": {
        "id": "O42uOYtUAK2D"
      },
      "outputs": [],
      "source": [
        "# def train_model(model, criterion, optimizer, n_epochs=20):\n",
        "def train_model(model, criterion, optimizer, n_epochs,train_dataloader,val_dataloader):\n",
        "    \"\"\"returns trained model\"\"\"\n",
        "    # initialize tracker for minimum validation loss\n",
        "    valid_loss_min = np.Inf\n",
        "    trainloss=[]\n",
        "    testloss=[]\n",
        "    for epoch in range(1, n_epochs):\n",
        "        train_loss = 0.0\n",
        "        valid_loss = 0.0\n",
        "        # train the model #\n",
        "        model.train()\n",
        "        for batch_idx, sample_batched in enumerate(train_dataloader):\n",
        "            # importing data and moving to GPU\n",
        "            image, label = sample_batched['image'].to(device), sample_batched['percentage'].to(device)\n",
        "            # zero the parameter gradients\n",
        "            optimizer.zero_grad()\n",
        "            output=model(image).reshape(-1)\n",
        "            # calculate loss\n",
        "            loss = criterion((output).type(torch.FloatTensor).to(device), label.type(torch.FloatTensor).to(device))\n",
        "            # back prop\n",
        "            loss.backward()\n",
        "            # grad\n",
        "            optimizer.step()\n",
        "            train_loss = train_loss + ((1 / (batch_idx + 1)) * (loss.data - train_loss))\n",
        "            if batch_idx % 100 == 0:\n",
        "                print('Epoch %d, Batch %d loss: %.6f' %\n",
        "                  (epoch, batch_idx + 1, train_loss))\n",
        "        # validate the model #\n",
        "        model.eval()\n",
        "        for batch_idx, sample_batched in enumerate(val_dataloader):\n",
        "            image, label = sample_batched['image'].to(device), sample_batched['percentage'].to(device)  \n",
        "            output = model(image).reshape(-1)\n",
        "            # calculate loss\n",
        "            loss=criterion((output).type(torch.FloatTensor).to(device), label.type(torch.FloatTensor).to(device))\n",
        "            valid_loss = valid_loss + ((1 / (batch_idx + 1)) * (loss.data - valid_loss))\n",
        "        \n",
        "        # print training/validation statistics \n",
        "        print('Epoch: {} \\tTraining Loss: {:.6f} \\tValidation Loss: {:.6f}'.format(\n",
        "            epoch, train_loss, valid_loss))\n",
        "        \n",
        "        trainloss.append(train_loss)\n",
        "        testloss.append(valid_loss)               \n",
        "        \n",
        "        ## TODO: save the model if validation loss has decreased\n",
        "        if valid_loss < valid_loss_min:\n",
        "            torch.save(model, 'drive/MyDrive/DL_Project/model_' + model.get_pretrianed_model_name() + '.pt')\n",
        "            print('Validation loss decreased ({:.6f} --> {:.6f}).  Saving model ...'.format(\n",
        "            valid_loss_min,\n",
        "            valid_loss))\n",
        "            valid_loss_min = valid_loss\n",
        "    # return trained model\n",
        "    # return (model, trainloss, testloss)\n",
        "    return model"
      ]
    },
    {
      "cell_type": "code",
      "execution_count": null,
      "metadata": {
        "colab": {
          "base_uri": "https://localhost:8080/"
        },
        "id": "pRcDzZQnAScu",
        "outputId": "8f5aaaa6-1fac-496d-c774-8a744eda7745"
      },
      "outputs": [
        {
          "output_type": "stream",
          "name": "stdout",
          "text": [
            "Epoch 1, Batch 1 loss: 19.711462\n",
            "Epoch 1, Batch 101 loss: 14.506065\n",
            "Epoch 1, Batch 201 loss: 13.014511\n",
            "Epoch 1, Batch 301 loss: 12.112564\n",
            "Epoch: 1 \tTraining Loss: 11.484762 \tValidation Loss: 6.628340\n",
            "Validation loss decreased (inf --> 6.628340).  Saving model ...\n",
            "Epoch 2, Batch 1 loss: 4.514096\n",
            "Epoch 2, Batch 101 loss: 9.110781\n",
            "Epoch 2, Batch 201 loss: 8.708406\n",
            "Epoch 2, Batch 301 loss: 8.907103\n",
            "Epoch: 2 \tTraining Loss: 8.750656 \tValidation Loss: 7.058897\n",
            "Epoch 3, Batch 1 loss: 3.230065\n",
            "Epoch 3, Batch 101 loss: 7.174019\n",
            "Epoch 3, Batch 201 loss: 7.923309\n",
            "Epoch 3, Batch 301 loss: 7.904830\n",
            "Epoch: 3 \tTraining Loss: 7.806810 \tValidation Loss: 9.033959\n",
            "Epoch 4, Batch 1 loss: 4.380039\n",
            "Epoch 4, Batch 101 loss: 6.782739\n",
            "Epoch 4, Batch 201 loss: 6.821428\n",
            "Epoch 4, Batch 301 loss: 7.102305\n",
            "Epoch: 4 \tTraining Loss: 7.100327 \tValidation Loss: 5.261479\n",
            "Validation loss decreased (6.628340 --> 5.261479).  Saving model ...\n",
            "Epoch 5, Batch 1 loss: 2.194548\n",
            "Epoch 5, Batch 101 loss: 6.642139\n",
            "Epoch 5, Batch 201 loss: 6.767194\n",
            "Epoch 5, Batch 301 loss: 6.914463\n",
            "Epoch: 5 \tTraining Loss: 6.775616 \tValidation Loss: 4.834480\n",
            "Validation loss decreased (5.261479 --> 4.834480).  Saving model ...\n",
            "Epoch 6, Batch 1 loss: 3.058456\n",
            "Epoch 6, Batch 101 loss: 5.973708\n",
            "Epoch 6, Batch 201 loss: 5.965001\n",
            "Epoch 6, Batch 301 loss: 6.105934\n",
            "Epoch: 6 \tTraining Loss: 6.090218 \tValidation Loss: 5.432540\n",
            "Epoch 7, Batch 1 loss: 6.004772\n",
            "Epoch 7, Batch 101 loss: 5.902575\n",
            "Epoch 7, Batch 201 loss: 6.029866\n",
            "Epoch 7, Batch 301 loss: 5.949512\n",
            "Epoch: 7 \tTraining Loss: 5.941564 \tValidation Loss: 6.289392\n",
            "Epoch 8, Batch 1 loss: 3.512821\n",
            "Epoch 8, Batch 101 loss: 5.826391\n",
            "Epoch 8, Batch 201 loss: 5.877514\n",
            "Epoch 8, Batch 301 loss: 5.920373\n",
            "Epoch: 8 \tTraining Loss: 6.027998 \tValidation Loss: 5.769413\n",
            "Epoch 9, Batch 1 loss: 9.756706\n",
            "Epoch 9, Batch 101 loss: 6.511104\n",
            "Epoch 9, Batch 201 loss: 6.087975\n",
            "Epoch 9, Batch 301 loss: 5.953145\n",
            "Epoch: 9 \tTraining Loss: 5.986374 \tValidation Loss: 4.687150\n",
            "Validation loss decreased (4.834480 --> 4.687150).  Saving model ...\n",
            "Epoch 10, Batch 1 loss: 6.267746\n",
            "Epoch 10, Batch 101 loss: 5.939515\n",
            "Epoch 10, Batch 201 loss: 5.587811\n",
            "Epoch 10, Batch 301 loss: 5.621072\n",
            "Epoch: 10 \tTraining Loss: 5.659605 \tValidation Loss: 5.159370\n",
            "Epoch 11, Batch 1 loss: 5.060169\n",
            "Epoch 11, Batch 101 loss: 5.227938\n",
            "Epoch 11, Batch 201 loss: 5.390813\n",
            "Epoch 11, Batch 301 loss: 5.291749\n",
            "Epoch: 11 \tTraining Loss: 5.219255 \tValidation Loss: 5.751669\n",
            "Epoch 12, Batch 1 loss: 4.369094\n",
            "Epoch 12, Batch 101 loss: 4.977623\n",
            "Epoch 12, Batch 201 loss: 5.329755\n",
            "Epoch 12, Batch 301 loss: 5.488810\n",
            "Epoch: 12 \tTraining Loss: 5.442361 \tValidation Loss: 4.092532\n",
            "Validation loss decreased (4.687150 --> 4.092532).  Saving model ...\n",
            "Epoch 13, Batch 1 loss: 3.892267\n",
            "Epoch 13, Batch 101 loss: 5.070585\n",
            "Epoch 13, Batch 201 loss: 4.980456\n",
            "Epoch 13, Batch 301 loss: 4.885530\n",
            "Epoch: 13 \tTraining Loss: 4.892434 \tValidation Loss: 4.522133\n",
            "Epoch 14, Batch 1 loss: 5.241549\n",
            "Epoch 14, Batch 101 loss: 4.902656\n",
            "Epoch 14, Batch 201 loss: 5.214018\n",
            "Epoch 14, Batch 301 loss: 5.104194\n",
            "Epoch: 14 \tTraining Loss: 5.026756 \tValidation Loss: 4.326745\n",
            "Epoch 15, Batch 1 loss: 3.189294\n",
            "Epoch 15, Batch 101 loss: 4.682878\n",
            "Epoch 15, Batch 201 loss: 4.857082\n",
            "Epoch 15, Batch 301 loss: 5.023818\n",
            "Epoch: 15 \tTraining Loss: 4.885738 \tValidation Loss: 5.186636\n",
            "Epoch 16, Batch 1 loss: 4.223871\n",
            "Epoch 16, Batch 101 loss: 4.382110\n"
          ]
        }
      ],
      "source": [
        "# model_conv = train_model(model_CNN, criterion, optimizer, n_epochs=25)\n",
        "from sklearn.model_selection import KFold\n",
        "import numpy as np\n",
        "splits=KFold(n_splits=10,shuffle=True,random_state=42)\n",
        "foldperf={}\n",
        "n_epochs = 25\n",
        "\n",
        "for fold, (train_idx,val_idx) in enumerate(splits.split(np.arange(len(covid_dataset_train_val)))):\n",
        "\n",
        "    print('Fold {}'.format(fold + 1))\n",
        "    model = model_CNN\n",
        "    train_sampler = SubsetRandomSampler(train_idx)\n",
        "    val_sampler = SubsetRandomSampler(val_idx)\n",
        "    train_loader = DataLoader(covid_dataset_train_val, batch_size=8, sampler=train_sampler)\n",
        "    val_loader = DataLoader(covid_dataset_train_val, batch_size=8, sampler=val_sampler)\n",
        "    model= train_model(model,criterion, optimizer, n_epochs, train_loader, val_loader)\n",
        "\n",
        "torch.save(model,'k_cross_CNN.pt')   "
      ]
    },
    {
      "cell_type": "code",
      "execution_count": null,
      "metadata": {
        "id": "xMafjLttjomh"
      },
      "outputs": [],
      "source": [
        "print(model_CNN)"
      ]
    },
    {
      "cell_type": "code",
      "execution_count": null,
      "metadata": {
        "id": "k3by1wxxBd4o"
      },
      "outputs": [],
      "source": [
        "trainloss=[]\n",
        "testloss=[]\n",
        "for i in model_conv[1]:\n",
        "    trainloss.append(i.tolist())\n",
        "for i in model_conv[2]:\n",
        "    testloss.append(i.tolist())"
      ]
    },
    {
      "cell_type": "code",
      "execution_count": null,
      "metadata": {
        "id": "97y_RGBmBgYV"
      },
      "outputs": [],
      "source": [
        "import matplotlib.pyplot as plt\n",
        "\n",
        "plt.style.use('seaborn')\n",
        "\n",
        "plt.plot(range(1,25), trainloss, label = 'Training error')\n",
        "plt.plot(range(1,25), testloss, label = 'Validation error')\n",
        "plt.ylabel('Loss', fontsize = 14)\n",
        "plt.xlabel('Epochs', fontsize = 14)\n",
        "plt.title('Learning curves', fontsize = 18, y = 1.03)\n",
        "plt.legend()\n",
        "plt.ylim(0,40)"
      ]
    },
    {
      "cell_type": "markdown",
      "metadata": {
        "id": "IJePsT4QUDdh"
      },
      "source": [
        "## Save result on Actual Val Data to csv File"
      ]
    },
    {
      "cell_type": "code",
      "execution_count": null,
      "metadata": {
        "id": "dnNpqbfNjHIp"
      },
      "outputs": [],
      "source": [
        "\n",
        "# PATH = 'drive/MyDrive/DL_Project/model_resnet50.pt'\n",
        "# model = torch.load(PATH)"
      ]
    },
    {
      "cell_type": "code",
      "execution_count": null,
      "metadata": {
        "id": "fxAQKYA4UJvj"
      },
      "outputs": [],
      "source": [
        "df = pd.DataFrame(columns=['image_name','output'])\n",
        "for batch_idx, sample_batched in enumerate(test_dataloader):\n",
        "    image= sample_batched['image'].to(device)\n",
        "    img_name= sample_batched['img_name']\n",
        "    output = model_conv[0](image).type(torch.LongTensor).reshape(-1)\n",
        "    img_name = np.array(img_name).reshape(output.shape[0],1)\n",
        "    o = output.cpu().data.numpy().reshape(output.shape[0],1)\n",
        "    a = np.concatenate((img_name,o),axis=1)\n",
        "    df = df.append(pd.DataFrame(a, columns=df.columns), ignore_index=True)\n",
        "    "
      ]
    },
    {
      "cell_type": "code",
      "execution_count": null,
      "metadata": {
        "id": "hxgoKACBUL_7"
      },
      "outputs": [],
      "source": [
        "#Extracting image name from the image path\n",
        "df['image_name']=df['image_name'].str.split(\"/\").str[-1]"
      ]
    },
    {
      "cell_type": "code",
      "execution_count": null,
      "metadata": {
        "id": "wuzUlqPkpxtD"
      },
      "outputs": [],
      "source": [
        "df.to_csv('drive/MyDrive/DL_Project/predictions.csv', index=False, header=False)"
      ]
    },
    {
      "cell_type": "code",
      "source": [
        "len(df)"
      ],
      "metadata": {
        "id": "uMGImSg2A43d"
      },
      "execution_count": null,
      "outputs": []
    },
    {
      "cell_type": "markdown",
      "metadata": {
        "id": "iMJCiCG-M1Ut"
      },
      "source": [
        "## Points to note:\n",
        "\n",
        "General Rules: Participants should estimate the percentage of Covid-19 infection from each slice using Machine Learning. **Only ImageNet's pre-trained models and Lung Nodule Segmentation models are allowed**. The use of external data or other pre-trained models is not allowed. The models must be trained using the training data and evaluated using the validation data.\n",
        "\n",
        "##Things you can try:\n",
        "\n",
        "- The dataset is not as big and especially negative covid images are very few.\n",
        "It would be better to use k-fold cross validation rather than conventional splitting.\n",
        "- How would you split image splices from the same patient subject into train & val set?\n",
        "- How would the information on the patient (subject #) help your prediction?\n",
        "- What kind of preprocessing/data augmentation method help your model? What kind of methods would actually make your model perform worse?\n",
        "- What other different CNN architectures could you explore to acheive lower MAE?\n",
        "- Explore different optimizers, loss combinations, etc\n",
        "- Explore different regularization methods\n",
        "\n",
        "This is no way an exhaustive list. You might get a better idea by reading relevant research papers. Good luck!"
      ]
    },
    {
      "cell_type": "code",
      "execution_count": null,
      "metadata": {
        "id": "fVwLtw1piBcj"
      },
      "outputs": [],
      "source": [
        ""
      ]
    }
  ],
  "metadata": {
    "accelerator": "GPU",
    "colab": {
      "collapsed_sections": [],
      "name": "zw2778covid.ipynb”的副本",
      "provenance": [],
      "machine_shape": "hm"
    },
    "kernelspec": {
      "display_name": "Python 3",
      "language": "python",
      "name": "python3"
    },
    "language_info": {
      "codemirror_mode": {
        "name": "ipython",
        "version": 3
      },
      "file_extension": ".py",
      "mimetype": "text/x-python",
      "name": "python",
      "nbconvert_exporter": "python",
      "pygments_lexer": "ipython3",
      "version": "3.7.12"
    }
  },
  "nbformat": 4,
  "nbformat_minor": 0
}